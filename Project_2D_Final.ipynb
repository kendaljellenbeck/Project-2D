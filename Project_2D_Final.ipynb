{
 "cells": [
  {
   "cell_type": "markdown",
   "id": "324d934b",
   "metadata": {},
   "source": [
    "# Project 2D"
   ]
  },
  {
   "cell_type": "markdown",
   "id": "f5fb2dda",
   "metadata": {},
   "source": [
    "##### Kendal Johnson-Ellenbeck "
   ]
  },
  {
   "cell_type": "markdown",
   "id": "c0a25335",
   "metadata": {},
   "source": [
    "### Scientific Question: How does exclusively breastfeeding affect the diversity of bacterium, like Bacteroidetes and Firmicutes, in the gut microbiome, and what is the correlation with the development of diarrhea-related gut microbiota dysbiosis? "
   ]
  },
  {
   "cell_type": "markdown",
   "id": "fd199b62",
   "metadata": {},
   "source": [
    "Exclusive breastfeeding has been shown to lower the diversity of the bacterium within the gut microbiome. Bacteroidetes and Firmicutes alike have a beneficial relationship with the host that they are in by sensing and adapting to nutrient availability as well as influence the immune system to combat other pathogens. (Wexler, 2007) Dysbiosis is a condition that is caused by an imbalance in the microbiome of the human gut. This condition affets the gut ecosystem and therefore can lead to conditions like diarrhea, indigestion, etc. (Li et al., 2021)\n",
    "\n",
    "The effect of breastfeeding on the development of the gut microbiome is a highly researched topic. While specifically looking at the idea of Bacteroidetes and Firmicutes on the development of dysbiosis, a specific article was found: https://www.ncbi.nlm.nih.gov/pmc/articles/PMC6177445/#MOESM1. Along with this, there was a link to the Github data that could be accessed: https://github.com/nhanhocu/metamicrobiome_breastfeeding. As stated on the Github page \"readme\" section the data shows a:  \n",
    "\n",
    "\"Meta-analysis of the effects of exclusive breastfeeding on infant gut microbiome across studies and populations\". "
   ]
  },
  {
   "cell_type": "markdown",
   "id": "122a4cd6",
   "metadata": {},
   "source": [
    "### Scientific Hypothesis: If infants are exclusively breastfed, then they will have a lower amount of Bacteroidetes and Firmicutes in infants’ gut microbiome which correlates with a reduced amount of diarrhea-related gut microbiota dysbiosis. "
   ]
  },
  {
   "cell_type": "markdown",
   "id": "8539e5ab",
   "metadata": {},
   "source": [
    "The data was downloaded into R studio because this was the only format it was available in. From there, the data was converted from an .rda file into a .csv file. For example, the file alphamalb.rda was converted to a .csv file by using the command: write.csv(alphamalb.rda,'alphamalb.csv'). Once all the necessary .rda files were converted to .csv, the calculations could start in jupyter notebook.\n",
    "\n",
    "The lower amount of Bacteriodetes and Firmicutes as well as the amount of general diversity in the infants' gut microbiome between being exclusively breastfed and non-exclusively breastfed was tested using a T-test, in which p-values were generated to compare to a significance level of .05.  \n",
    "\n",
    "Data was then used to see what effect exclusively breastfeeding vs. non-exclusively breastfeeding had on the generation of diarrhea-related gut microbiota dysbiosis. This was done by using a deep neural network as well as visualization via a scatter plot. \n",
    "\n",
    "In summary, to answer this scientific question and test my hypothesis: I downloaded the corresponding data from Github, uploaded it to R studio to get a .csv, and then I tested the data using various bioinformatics methods and a visualization method. "
   ]
  },
  {
   "cell_type": "markdown",
   "id": "ca4cb778",
   "metadata": {},
   "source": [
    "### Part 1: Load the Packages"
   ]
  },
  {
   "cell_type": "markdown",
   "id": "59517868",
   "metadata": {},
   "source": [
    "Packages included the following: \n",
    "- Pandas: Pandas is a package that makes working with \"relational\" or \"tablular\" data fast, easy, and inbuilt. Pandas can be found for 2 different types of data structures: Series, which works for 1-dimensional, homogenous-type arrays and DataFrame, which works for 2-dimensional heterogenous-type columns. Some of the things pandas can accomplish are: handle missing data (NaN) points, insert/delete columns from DataFrame, merge/join data sets, and much more. To learn more about Pandas, visit their informational page: https://pandas.pydata.org/pandas-docs/stable/getting_started/overview.html. \n",
    "\n",
    "- Numpy: Numpy allows for scientific computation in the Python language. It provides tools for work on n-dimensional arrays. Numpy can do a variety of tasks including, but not limited to: advanced mathematical operations on a large chunk of data, reshaping of arrays, and indexing arrays by Boolean and integer values. The only stipulation is these arrays have a fixed size from creation. To learn more about Numpy, visit their informational page: https://numpy.org/doc/stable/user/whatisnumpy.html. \n",
    "\n",
    "- SciPy: Scipy is built on the Numpy extension. It allows for the manipulation and visualization of scientific data. Scipy has a lot of subpackages: cluster, integrate, optimize and stats just to name a few.  Overall, Scipy contains fully functional versions of the code from Numpy and is able to solve problems, like exponential and trigonometry calculations as well as general integration problems. To learn more about Scipy, visit their informative blog post: https://www.edureka.co/blog/scipy-tutorial/. \n",
    "\n",
    "- Matplotlib: Matplotlib is a library that is used for visualizing data and plotting graphs in Python. These graphics can be static, animated or even interactive. It prides istelf on being able to generate a graph with only a few lines of code needed. Figure and Axes are its 2 main databases that are uploaded. Figure allows for the plot to be visualized and axes gives the elements to the plot. To learn more about Matplotlib, visit an informational page: https://www.activestate.com/resources/quick-reads/what-is-matplotlib-in-python-how-to-use-it-for-plotting/. \n",
    "\n",
    "- Math: The Math package is short for mathematical functions and it serves as the main way of being able to use math language on data. Complex numbers cannot be used with the math package. Some calculations that it is able to do include: \"factorial\" which returns x factorial as an integer, \"isfinite\" which gives a True statement if x is not infinity or NaN and trigonometric functions like acos(x), asin(x) and atan(x). These are just a few of the calculations that the math package is able to provide. To see what other functions the Math package can accomplish, visit the Python help page: https://docs.python.org/3/library/math.html.\n",
    "\n",
    "- TensorFlow: TensorFlow is an open source package for machine-learning. Open-source means that it is available to users all around. It provides workflows for developing and training models in Python. It is most known for being the library used for support Keras, the neural network library. For more information about TensorFlow, visit the informational blog: https://www.infoworld.com/article/3278008/what-is-tensorflow-the-machine-learning-library-explained.html. \n",
    "\n",
    "- Keras: Keras is the deep learning package in Python. It is an Open Source Neural Network library that runs on top of Theano or TensorFlow. For this reason, Keras does not do low level computation but rather just performs high-level calculations, while using TensorFlow to do its low-level calculations. Keras allows one to make a network model with simply a few lines of code. For this reason, it is the main package used for making neural network models in Python language. To learn more about Keras and its function, visit their informational page: https://www.guru99.com/keras-tutorial.html#1. \n"
   ]
  },
  {
   "cell_type": "code",
   "execution_count": 5,
   "id": "b74125ad",
   "metadata": {
    "scrolled": true
   },
   "outputs": [
    {
     "name": "stdout",
     "output_type": "stream",
     "text": [
      "Requirement already satisfied: TensorFlow in /Users/kendalellenbeck/opt/anaconda3/lib/python3.8/site-packages (2.7.0)\n",
      "Requirement already satisfied: absl-py>=0.4.0 in /Users/kendalellenbeck/opt/anaconda3/lib/python3.8/site-packages (from TensorFlow) (1.0.0)\n",
      "Requirement already satisfied: tensorflow-io-gcs-filesystem>=0.21.0 in /Users/kendalellenbeck/opt/anaconda3/lib/python3.8/site-packages (from TensorFlow) (0.22.0)\n",
      "Requirement already satisfied: flatbuffers<3.0,>=1.12 in /Users/kendalellenbeck/opt/anaconda3/lib/python3.8/site-packages (from TensorFlow) (2.0)\n",
      "Requirement already satisfied: tensorflow-estimator<2.8,~=2.7.0rc0 in /Users/kendalellenbeck/opt/anaconda3/lib/python3.8/site-packages (from TensorFlow) (2.7.0)\n",
      "Requirement already satisfied: tensorboard~=2.6 in /Users/kendalellenbeck/opt/anaconda3/lib/python3.8/site-packages (from TensorFlow) (2.7.0)\n",
      "Requirement already satisfied: wheel<1.0,>=0.32.0 in /Users/kendalellenbeck/opt/anaconda3/lib/python3.8/site-packages (from TensorFlow) (0.36.2)\n",
      "Requirement already satisfied: termcolor>=1.1.0 in /Users/kendalellenbeck/opt/anaconda3/lib/python3.8/site-packages (from TensorFlow) (1.1.0)\n",
      "Requirement already satisfied: keras-preprocessing>=1.1.1 in /Users/kendalellenbeck/opt/anaconda3/lib/python3.8/site-packages (from TensorFlow) (1.1.2)\n",
      "Requirement already satisfied: astunparse>=1.6.0 in /Users/kendalellenbeck/opt/anaconda3/lib/python3.8/site-packages (from TensorFlow) (1.6.3)\n",
      "Requirement already satisfied: six>=1.12.0 in /Users/kendalellenbeck/opt/anaconda3/lib/python3.8/site-packages (from TensorFlow) (1.15.0)\n",
      "Requirement already satisfied: opt-einsum>=2.3.2 in /Users/kendalellenbeck/opt/anaconda3/lib/python3.8/site-packages (from TensorFlow) (3.3.0)\n",
      "Requirement already satisfied: grpcio<2.0,>=1.24.3 in /Users/kendalellenbeck/opt/anaconda3/lib/python3.8/site-packages (from TensorFlow) (1.42.0)\n",
      "Requirement already satisfied: google-pasta>=0.1.1 in /Users/kendalellenbeck/opt/anaconda3/lib/python3.8/site-packages (from TensorFlow) (0.2.0)\n",
      "Requirement already satisfied: typing-extensions>=3.6.6 in /Users/kendalellenbeck/opt/anaconda3/lib/python3.8/site-packages (from TensorFlow) (4.0.1)\n",
      "Requirement already satisfied: protobuf>=3.9.2 in /Users/kendalellenbeck/opt/anaconda3/lib/python3.8/site-packages (from TensorFlow) (3.19.1)\n",
      "Requirement already satisfied: gast<0.5.0,>=0.2.1 in /Users/kendalellenbeck/opt/anaconda3/lib/python3.8/site-packages (from TensorFlow) (0.4.0)\n",
      "Requirement already satisfied: numpy>=1.14.5 in /Users/kendalellenbeck/opt/anaconda3/lib/python3.8/site-packages (from TensorFlow) (1.20.1)\n",
      "Requirement already satisfied: libclang>=9.0.1 in /Users/kendalellenbeck/opt/anaconda3/lib/python3.8/site-packages (from TensorFlow) (12.0.0)\n",
      "Requirement already satisfied: wrapt>=1.11.0 in /Users/kendalellenbeck/opt/anaconda3/lib/python3.8/site-packages (from TensorFlow) (1.12.1)\n",
      "Requirement already satisfied: h5py>=2.9.0 in /Users/kendalellenbeck/opt/anaconda3/lib/python3.8/site-packages (from TensorFlow) (2.10.0)\n",
      "Requirement already satisfied: keras<2.8,>=2.7.0rc0 in /Users/kendalellenbeck/opt/anaconda3/lib/python3.8/site-packages (from TensorFlow) (2.7.0)\n",
      "Requirement already satisfied: tensorboard-plugin-wit>=1.6.0 in /Users/kendalellenbeck/opt/anaconda3/lib/python3.8/site-packages (from tensorboard~=2.6->TensorFlow) (1.8.0)\n",
      "Requirement already satisfied: markdown>=2.6.8 in /Users/kendalellenbeck/opt/anaconda3/lib/python3.8/site-packages (from tensorboard~=2.6->TensorFlow) (3.3.6)\n",
      "Requirement already satisfied: tensorboard-data-server<0.7.0,>=0.6.0 in /Users/kendalellenbeck/opt/anaconda3/lib/python3.8/site-packages (from tensorboard~=2.6->TensorFlow) (0.6.1)\n",
      "Requirement already satisfied: google-auth-oauthlib<0.5,>=0.4.1 in /Users/kendalellenbeck/opt/anaconda3/lib/python3.8/site-packages (from tensorboard~=2.6->TensorFlow) (0.4.6)\n",
      "Requirement already satisfied: google-auth<3,>=1.6.3 in /Users/kendalellenbeck/opt/anaconda3/lib/python3.8/site-packages (from tensorboard~=2.6->TensorFlow) (2.3.3)\n",
      "Requirement already satisfied: werkzeug>=0.11.15 in /Users/kendalellenbeck/opt/anaconda3/lib/python3.8/site-packages (from tensorboard~=2.6->TensorFlow) (1.0.1)\n",
      "Requirement already satisfied: setuptools>=41.0.0 in /Users/kendalellenbeck/opt/anaconda3/lib/python3.8/site-packages (from tensorboard~=2.6->TensorFlow) (52.0.0.post20210125)\n",
      "Requirement already satisfied: requests<3,>=2.21.0 in /Users/kendalellenbeck/opt/anaconda3/lib/python3.8/site-packages (from tensorboard~=2.6->TensorFlow) (2.25.1)\n",
      "Requirement already satisfied: rsa<5,>=3.1.4 in /Users/kendalellenbeck/opt/anaconda3/lib/python3.8/site-packages (from google-auth<3,>=1.6.3->tensorboard~=2.6->TensorFlow) (4.8)\n",
      "Requirement already satisfied: cachetools<5.0,>=2.0.0 in /Users/kendalellenbeck/opt/anaconda3/lib/python3.8/site-packages (from google-auth<3,>=1.6.3->tensorboard~=2.6->TensorFlow) (4.2.4)\n",
      "Requirement already satisfied: pyasn1-modules>=0.2.1 in /Users/kendalellenbeck/opt/anaconda3/lib/python3.8/site-packages (from google-auth<3,>=1.6.3->tensorboard~=2.6->TensorFlow) (0.2.8)\n",
      "Requirement already satisfied: requests-oauthlib>=0.7.0 in /Users/kendalellenbeck/opt/anaconda3/lib/python3.8/site-packages (from google-auth-oauthlib<0.5,>=0.4.1->tensorboard~=2.6->TensorFlow) (1.3.0)\n",
      "Requirement already satisfied: importlib-metadata>=4.4 in /Users/kendalellenbeck/opt/anaconda3/lib/python3.8/site-packages (from markdown>=2.6.8->tensorboard~=2.6->TensorFlow) (4.8.2)\n",
      "Requirement already satisfied: zipp>=0.5 in /Users/kendalellenbeck/opt/anaconda3/lib/python3.8/site-packages (from importlib-metadata>=4.4->markdown>=2.6.8->tensorboard~=2.6->TensorFlow) (3.4.1)\n",
      "Requirement already satisfied: pyasn1<0.5.0,>=0.4.6 in /Users/kendalellenbeck/opt/anaconda3/lib/python3.8/site-packages (from pyasn1-modules>=0.2.1->google-auth<3,>=1.6.3->tensorboard~=2.6->TensorFlow) (0.4.8)\n",
      "Requirement already satisfied: urllib3<1.27,>=1.21.1 in /Users/kendalellenbeck/opt/anaconda3/lib/python3.8/site-packages (from requests<3,>=2.21.0->tensorboard~=2.6->TensorFlow) (1.26.4)\n",
      "Requirement already satisfied: chardet<5,>=3.0.2 in /Users/kendalellenbeck/opt/anaconda3/lib/python3.8/site-packages (from requests<3,>=2.21.0->tensorboard~=2.6->TensorFlow) (4.0.0)\n",
      "Requirement already satisfied: certifi>=2017.4.17 in /Users/kendalellenbeck/opt/anaconda3/lib/python3.8/site-packages (from requests<3,>=2.21.0->tensorboard~=2.6->TensorFlow) (2021.10.8)\n",
      "Requirement already satisfied: idna<3,>=2.5 in /Users/kendalellenbeck/opt/anaconda3/lib/python3.8/site-packages (from requests<3,>=2.21.0->tensorboard~=2.6->TensorFlow) (2.10)\n",
      "Requirement already satisfied: oauthlib>=3.0.0 in /Users/kendalellenbeck/opt/anaconda3/lib/python3.8/site-packages (from requests-oauthlib>=0.7.0->google-auth-oauthlib<0.5,>=0.4.1->tensorboard~=2.6->TensorFlow) (3.1.1)\n",
      "Note: you may need to restart the kernel to use updated packages.\n"
     ]
    }
   ],
   "source": [
    "pip install TensorFlow "
   ]
  },
  {
   "cell_type": "code",
   "execution_count": 2,
   "id": "8ec2967e",
   "metadata": {},
   "outputs": [],
   "source": [
    "import pandas as pd"
   ]
  },
  {
   "cell_type": "code",
   "execution_count": 3,
   "id": "375226b2",
   "metadata": {},
   "outputs": [],
   "source": [
    "import numpy as np"
   ]
  },
  {
   "cell_type": "code",
   "execution_count": 4,
   "id": "b8b8908b",
   "metadata": {},
   "outputs": [],
   "source": [
    "import scipy.stats as stats"
   ]
  },
  {
   "cell_type": "code",
   "execution_count": 5,
   "id": "841d0c37",
   "metadata": {},
   "outputs": [],
   "source": [
    "import matplotlib.pyplot as plt"
   ]
  },
  {
   "cell_type": "code",
   "execution_count": 6,
   "id": "05810fbe",
   "metadata": {},
   "outputs": [],
   "source": [
    "import math"
   ]
  },
  {
   "cell_type": "code",
   "execution_count": 7,
   "id": "4a18de50",
   "metadata": {},
   "outputs": [],
   "source": [
    "import keras"
   ]
  },
  {
   "cell_type": "code",
   "execution_count": 8,
   "id": "1946fc13",
   "metadata": {},
   "outputs": [],
   "source": [
    "import tensorflow as tf "
   ]
  },
  {
   "cell_type": "code",
   "execution_count": 9,
   "id": "a0789b37",
   "metadata": {},
   "outputs": [],
   "source": [
    "from numpy import loadtxt"
   ]
  },
  {
   "cell_type": "code",
   "execution_count": 10,
   "id": "fcd4d665",
   "metadata": {},
   "outputs": [],
   "source": [
    "from keras.models import Sequential"
   ]
  },
  {
   "cell_type": "code",
   "execution_count": 11,
   "id": "590abab4",
   "metadata": {},
   "outputs": [],
   "source": [
    "from keras.layers import Dense"
   ]
  },
  {
   "cell_type": "markdown",
   "id": "fe23c6a2",
   "metadata": {},
   "source": [
    "### Part 2A: Load in Data and Perform Biometric Analyses (P-Value)"
   ]
  },
  {
   "cell_type": "markdown",
   "id": "0292f4e5",
   "metadata": {},
   "source": [
    "CSV file, or Comma Separated Values file, is a simple file format that is used to store tabular data in plain text. In simpler words, it can take a spreadsheet or database and create  header with the names of the particular features of the spreadsheet. From there, each subsequent line of the file is an observation, with each observation separated by a comma. P-value is a type of result that is used in hypothesis testing. In statistical testing, the p-value is the probability of obtaining a result as extreme as the results observed, while assuming the null hypothesis (the difference between the 2 data sets is the same) is correct. The Shannon Diversity Index (H) is used to characterize species diversity in a community. This means that the higher the value of H, the more diverse the community is and vice-versa. (http://www.tiem.utk.edu/~gross/bioed/bealsmodules/shannonDI.html) \n",
    "\n",
    "\n",
    "In the code below, we read in a csv value, separated that csv file based on its columns, sorted the data based on whether the infant is breast fed or not, obtained the diversity values ('shannon') in the exclusively breast fed (ebf) vs. non-exclusively breast fed (nebf) infants and then generated a p-value to see the difference between exclusively breast fed and non-exclusively breast fed groups regarding bacterial diversity. From there, a 2-sample 1-sided t test is performed that compares the difference between the 2 sample means of each of the bacterial groups (Bacteroidetes and Firmicutes) to an expectation about the difference in the population. "
   ]
  },
  {
   "cell_type": "code",
   "execution_count": 176,
   "id": "6c7f63be",
   "metadata": {},
   "outputs": [
    {
     "data": {
      "text/html": [
       "<div>\n",
       "<style scoped>\n",
       "    .dataframe tbody tr th:only-of-type {\n",
       "        vertical-align: middle;\n",
       "    }\n",
       "\n",
       "    .dataframe tbody tr th {\n",
       "        vertical-align: top;\n",
       "    }\n",
       "\n",
       "    .dataframe thead th {\n",
       "        text-align: right;\n",
       "    }\n",
       "</style>\n",
       "<table border=\"1\" class=\"dataframe\">\n",
       "  <thead>\n",
       "    <tr style=\"text-align: right;\">\n",
       "      <th></th>\n",
       "      <th>Unnamed: 0</th>\n",
       "      <th>sampleid</th>\n",
       "      <th>personid</th>\n",
       "      <th>bf</th>\n",
       "      <th>age.sample</th>\n",
       "      <th>chao1</th>\n",
       "      <th>observed_species</th>\n",
       "      <th>pd_whole_tree</th>\n",
       "      <th>shannon</th>\n",
       "      <th>study</th>\n",
       "      <th>author</th>\n",
       "      <th>year</th>\n",
       "      <th>pop</th>\n",
       "    </tr>\n",
       "  </thead>\n",
       "  <tbody>\n",
       "    <tr>\n",
       "      <th>0</th>\n",
       "      <td>1</td>\n",
       "      <td>ca.1</td>\n",
       "      <td>ca.1</td>\n",
       "      <td>ExclusiveBF</td>\n",
       "      <td>3.090411</td>\n",
       "      <td>233.745675</td>\n",
       "      <td>170.2</td>\n",
       "      <td>10.118659</td>\n",
       "      <td>3.917861</td>\n",
       "      <td>Canada</td>\n",
       "      <td>Azad et al</td>\n",
       "      <td>2015</td>\n",
       "      <td>Canada</td>\n",
       "    </tr>\n",
       "    <tr>\n",
       "      <th>1</th>\n",
       "      <td>2</td>\n",
       "      <td>ca.2</td>\n",
       "      <td>ca.2</td>\n",
       "      <td>ExclusiveBF</td>\n",
       "      <td>2.991781</td>\n",
       "      <td>225.516098</td>\n",
       "      <td>158.2</td>\n",
       "      <td>9.283608</td>\n",
       "      <td>3.023531</td>\n",
       "      <td>Canada</td>\n",
       "      <td>Azad et al</td>\n",
       "      <td>2015</td>\n",
       "      <td>Canada</td>\n",
       "    </tr>\n",
       "    <tr>\n",
       "      <th>2</th>\n",
       "      <td>3</td>\n",
       "      <td>ca.3</td>\n",
       "      <td>ca.3</td>\n",
       "      <td>No_BF</td>\n",
       "      <td>2.794521</td>\n",
       "      <td>258.827281</td>\n",
       "      <td>189.6</td>\n",
       "      <td>11.941849</td>\n",
       "      <td>4.568429</td>\n",
       "      <td>Canada</td>\n",
       "      <td>Azad et al</td>\n",
       "      <td>2015</td>\n",
       "      <td>Canada</td>\n",
       "    </tr>\n",
       "    <tr>\n",
       "      <th>3</th>\n",
       "      <td>4</td>\n",
       "      <td>ca.4</td>\n",
       "      <td>ca.4</td>\n",
       "      <td>ExclusiveBF</td>\n",
       "      <td>3.024658</td>\n",
       "      <td>124.040903</td>\n",
       "      <td>91.7</td>\n",
       "      <td>7.547736</td>\n",
       "      <td>1.311417</td>\n",
       "      <td>Canada</td>\n",
       "      <td>Azad et al</td>\n",
       "      <td>2015</td>\n",
       "      <td>Canada</td>\n",
       "    </tr>\n",
       "    <tr>\n",
       "      <th>4</th>\n",
       "      <td>5</td>\n",
       "      <td>ca.5</td>\n",
       "      <td>ca.5</td>\n",
       "      <td>ExclusiveBF</td>\n",
       "      <td>2.991781</td>\n",
       "      <td>201.022086</td>\n",
       "      <td>145.1</td>\n",
       "      <td>7.987896</td>\n",
       "      <td>2.176329</td>\n",
       "      <td>Canada</td>\n",
       "      <td>Azad et al</td>\n",
       "      <td>2015</td>\n",
       "      <td>Canada</td>\n",
       "    </tr>\n",
       "  </tbody>\n",
       "</table>\n",
       "</div>"
      ],
      "text/plain": [
       "   Unnamed: 0 sampleid personid           bf  age.sample       chao1  \\\n",
       "0           1     ca.1     ca.1  ExclusiveBF    3.090411  233.745675   \n",
       "1           2     ca.2     ca.2  ExclusiveBF    2.991781  225.516098   \n",
       "2           3     ca.3     ca.3        No_BF    2.794521  258.827281   \n",
       "3           4     ca.4     ca.4  ExclusiveBF    3.024658  124.040903   \n",
       "4           5     ca.5     ca.5  ExclusiveBF    2.991781  201.022086   \n",
       "\n",
       "   observed_species  pd_whole_tree   shannon   study      author  year     pop  \n",
       "0             170.2      10.118659  3.917861  Canada  Azad et al  2015  Canada  \n",
       "1             158.2       9.283608  3.023531  Canada  Azad et al  2015  Canada  \n",
       "2             189.6      11.941849  4.568429  Canada  Azad et al  2015  Canada  \n",
       "3              91.7       7.547736  1.311417  Canada  Azad et al  2015  Canada  \n",
       "4             145.1       7.987896  2.176329  Canada  Azad et al  2015  Canada  "
      ]
     },
     "execution_count": 176,
     "metadata": {},
     "output_type": "execute_result"
    }
   ],
   "source": [
    "# Read in .csv file and show with headers \n",
    "df = pd.read_csv('alphamalb.csv')\n",
    "df.head()"
   ]
  },
  {
   "cell_type": "code",
   "execution_count": 42,
   "id": "aa13aca1",
   "metadata": {},
   "outputs": [],
   "source": [
    "# Categorize df into exclusive BF and non-exclusive BF data for comparison \n",
    "ebf = df.loc[df['bf']=='ExclusiveBF']\n",
    "nebf = df.loc[df['bf']=='Non_exclusiveBF']"
   ]
  },
  {
   "cell_type": "code",
   "execution_count": 177,
   "id": "0fde6cbb",
   "metadata": {},
   "outputs": [],
   "source": [
    "# Compare shannon values for exclusive BF vs. non-exclusive BF infants \n",
    "shannon_ebf = ebf['shannon']\n",
    "shannon_nebf = nebf['shannon']"
   ]
  },
  {
   "cell_type": "code",
   "execution_count": 215,
   "id": "32d47355",
   "metadata": {},
   "outputs": [
    {
     "name": "stdout",
     "output_type": "stream",
     "text": [
      "0.369409752700842\n",
      "0.4349283056277771\n"
     ]
    }
   ],
   "source": [
    "# Compare variance values in order to run t test\n",
    "# Define a global variable \n",
    "a= (np.var(shannon_ebf))\n",
    "b= (np.var(shannon_nebf))\n",
    "\n",
    "def myfunc():\n",
    "    print(0 + a)\n",
    "    print (0 + b)\n",
    "\n",
    "myfunc()"
   ]
  },
  {
   "cell_type": "markdown",
   "id": "444a0531",
   "metadata": {},
   "source": [
    "A global variable is a variable that is created outside of a function. Global variables can be used by everyone because they can be used both inside and outside of functions. If a function is created inside of a function, it is usally local but it can be switched to global by using the global keyword in front of the variable. In this case, this variables can be called both inside and outside of the function because they are defined outside of the function of \"def\" and therefore are global variables (a and b). (https://www.w3schools.com/python/python_variables_global.asp)"
   ]
  },
  {
   "cell_type": "code",
   "execution_count": 179,
   "id": "664f2cf9",
   "metadata": {},
   "outputs": [
    {
     "data": {
      "text/plain": [
       "Ttest_indResult(statistic=-1.9723467172982636, pvalue=0.05066023756298333)"
      ]
     },
     "execution_count": 179,
     "metadata": {},
     "output_type": "execute_result"
    }
   ],
   "source": [
    "# Perform T-test \n",
    "stats.ttest_ind(a=shannon_ebf,b=shannon_nebf,equal_var=True)"
   ]
  },
  {
   "cell_type": "code",
   "execution_count": 180,
   "id": "b2de1e76",
   "metadata": {},
   "outputs": [],
   "source": [
    "#Read in .csv file \n",
    "df1 = pd.read_csv('rmdatca.csv')"
   ]
  },
  {
   "cell_type": "code",
   "execution_count": 166,
   "id": "4719a93f",
   "metadata": {},
   "outputs": [],
   "source": [
    "# Use loc to separate \"bf\" column into Exclusive BF and Non-Exclusive BF \n",
    "ebf1 = df1.loc[df['bf']=='ExclusiveBF']\n",
    "nebf1 = df1.loc[df['bf']=='Non_exclusiveBF']"
   ]
  },
  {
   "cell_type": "code",
   "execution_count": 167,
   "id": "118a52b0",
   "metadata": {},
   "outputs": [],
   "source": [
    "# Get Bacteroidetes phylum data of each df to compare in Exclusive BF vs. Non-Exclusive BF infants\n",
    "bacterioidetes_ebf = ebf1[ebf1.columns[14]]\n",
    "bacterioidetes_nebf = nebf1[nebf1.columns[14]]"
   ]
  },
  {
   "cell_type": "code",
   "execution_count": 203,
   "id": "4b0bf94f",
   "metadata": {},
   "outputs": [
    {
     "data": {
      "text/plain": [
       "0.0002441830465116279"
      ]
     },
     "execution_count": 203,
     "metadata": {},
     "output_type": "execute_result"
    }
   ],
   "source": [
    "# Find mean of data to see visual difference between EBF and NEBF data \n",
    "bacterioidetes_ebf.mean()"
   ]
  },
  {
   "cell_type": "code",
   "execution_count": 204,
   "id": "f971b004",
   "metadata": {},
   "outputs": [
    {
     "data": {
      "text/plain": [
       "0.016988778645833338"
      ]
     },
     "execution_count": 204,
     "metadata": {},
     "output_type": "execute_result"
    }
   ],
   "source": [
    "bacterioidetes_nebf.mean()"
   ]
  },
  {
   "cell_type": "code",
   "execution_count": 218,
   "id": "e379d3ee",
   "metadata": {},
   "outputs": [
    {
     "name": "stdout",
     "output_type": "stream",
     "text": [
      "5.675242676338112e-07\n",
      "0.00601743009547009\n"
     ]
    }
   ],
   "source": [
    "#Compare variance values in order to run t-test\n",
    "#Define local variable \n",
    "def myfunc():\n",
    "    c=(np.var(bacterioidetes_ebf))\n",
    "    d=(np.var(bacterioidetes_nebf))\n",
    "    print (1 * c)\n",
    "    print (1 * d)\n",
    "myfunc()"
   ]
  },
  {
   "cell_type": "code",
   "execution_count": 219,
   "id": "0dfed792",
   "metadata": {},
   "outputs": [
    {
     "ename": "NameError",
     "evalue": "name 'c' is not defined",
     "output_type": "error",
     "traceback": [
      "\u001b[0;31m---------------------------------------------------------------------------\u001b[0m",
      "\u001b[0;31mNameError\u001b[0m                                 Traceback (most recent call last)",
      "\u001b[0;32m<ipython-input-219-6f07502ae861>\u001b[0m in \u001b[0;36m<module>\u001b[0;34m\u001b[0m\n\u001b[0;32m----> 1\u001b[0;31m \u001b[0mprint\u001b[0m \u001b[0;34m(\u001b[0m\u001b[0;36m1\u001b[0m \u001b[0;34m+\u001b[0m \u001b[0mc\u001b[0m\u001b[0;34m)\u001b[0m\u001b[0;34m\u001b[0m\u001b[0;34m\u001b[0m\u001b[0m\n\u001b[0m",
      "\u001b[0;31mNameError\u001b[0m: name 'c' is not defined"
     ]
    }
   ],
   "source": [
    "print (1 + c)"
   ]
  },
  {
   "cell_type": "markdown",
   "id": "6ced0a96",
   "metadata": {},
   "source": [
    "c is what we call a local variable. Because it was defined within the function, it was isolated to that specific area. The myfunc() value gave the values of c and d, but when c, the local variable, was tried to be used again, it could not. Again, these variables c and d can only be used inside the function now because they are defined as local, while a and b can be used again because they are global variables. "
   ]
  },
  {
   "cell_type": "code",
   "execution_count": 169,
   "id": "df2750a2",
   "metadata": {},
   "outputs": [
    {
     "data": {
      "text/plain": [
       "Ttest_indResult(statistic=-1.9866265645194425, pvalue=0.04903461002075943)"
      ]
     },
     "execution_count": 169,
     "metadata": {},
     "output_type": "execute_result"
    }
   ],
   "source": [
    "#Perform T-test\n",
    "stats.ttest_ind(a=bacterioidetes_ebf,b=bacterioidetes_nebf,equal_var=True)"
   ]
  },
  {
   "cell_type": "code",
   "execution_count": 172,
   "id": "4c54961b",
   "metadata": {},
   "outputs": [],
   "source": [
    "# Get Firmicutes phylum data of each df to compare in Exclusive BF vs. Non-Exclusive BF infants\n",
    "firmicutes_ebf = ebf1 [ebf1.columns[24]]\n",
    "firmicutes_nebf = nebf1 [nebf1.columns[24]]"
   ]
  },
  {
   "cell_type": "code",
   "execution_count": 209,
   "id": "2bb32ebe",
   "metadata": {},
   "outputs": [
    {
     "data": {
      "text/plain": [
       "0.03198121591860466"
      ]
     },
     "execution_count": 209,
     "metadata": {},
     "output_type": "execute_result"
    }
   ],
   "source": [
    "# Find mean of data to see visual difference between EBF and NEBF data \n",
    "firmicutes_ebf.mean()"
   ]
  },
  {
   "cell_type": "code",
   "execution_count": 210,
   "id": "a755a1ab",
   "metadata": {},
   "outputs": [
    {
     "data": {
      "text/plain": [
       "0.011483973895833333"
      ]
     },
     "execution_count": 210,
     "metadata": {},
     "output_type": "execute_result"
    }
   ],
   "source": [
    "firmicutes_nebf.mean()"
   ]
  },
  {
   "cell_type": "code",
   "execution_count": 173,
   "id": "38ee24c4",
   "metadata": {},
   "outputs": [
    {
     "name": "stdout",
     "output_type": "stream",
     "text": [
      "0.003809955574663046\n",
      "0.0003704625272989814\n"
     ]
    }
   ],
   "source": [
    "# Compare variance values in order to run t-test\n",
    "print(np.var(firmicutes_ebf))\n",
    "print(np.var(firmicutes_nebf))"
   ]
  },
  {
   "cell_type": "code",
   "execution_count": 174,
   "id": "18023fc7",
   "metadata": {},
   "outputs": [
    {
     "data": {
      "text/plain": [
       "Ttest_indResult(statistic=2.223896366321618, pvalue=0.027855082187919964)"
      ]
     },
     "execution_count": 174,
     "metadata": {},
     "output_type": "execute_result"
    }
   ],
   "source": [
    "#Perform T-test \n",
    "stats.ttest_ind(a=firmicutes_ebf,b=firmicutes_nebf,equal_var=True)"
   ]
  },
  {
   "cell_type": "markdown",
   "id": "f8a2c749",
   "metadata": {},
   "source": [
    "### Part 2B: Load in Data and Perform Biometric Analyses (Deep Neural Network)"
   ]
  },
  {
   "cell_type": "markdown",
   "id": "2fce21d0",
   "metadata": {},
   "source": [
    "A Deep Neural Network is a hierarchical organization of data. This means that the input data is cosumed in each layer as they add. For example, the input data is consumed by the first layer, which then adds output to neurons in next layer and so on until the final output is achieved. \n",
    "\n",
    "In this code, the CSV file is read in. The data is then made into a Pandas DataFrame, known as dn. In dn, the 'Yes' and 'No' values are replaced with 1s and 0s, which can be seen when dn is printed. From there we separate x to be the 3 variables that define the onset of diarrhea, which is the breast milk, the formula and the solid foods. The y variable is what we are trying to determine if x factors cause it, which is the diarrhea column.From there, the keras model is used on the data to create a Deep Neural Network for analyzation. Finally ,the model can output a loss value as well as an accuracy value for interpretation."
   ]
  },
  {
   "cell_type": "markdown",
   "id": "ba8747da",
   "metadata": {},
   "source": [
    "References for Deep Neural Network: https://www.datacamp.com/community/tutorials/deep-learning-python, https://machinelearningmastery.com/tutorial-first-neural-network-python-keras/ "
   ]
  },
  {
   "cell_type": "code",
   "execution_count": 183,
   "id": "7a1b8f32",
   "metadata": {},
   "outputs": [],
   "source": [
    "# Read in csv file \n",
    "data= pd.read_csv('alphamrm.csv')"
   ]
  },
  {
   "cell_type": "code",
   "execution_count": 184,
   "id": "c961dfe2",
   "metadata": {},
   "outputs": [],
   "source": [
    "#Create a pandas data frame \n",
    "dn= pd.DataFrame(data, columns=['breast.milk','formula1','solid.foods2','diarrhea','antibiotics'])"
   ]
  },
  {
   "cell_type": "code",
   "execution_count": 185,
   "id": "b1598c9d",
   "metadata": {},
   "outputs": [],
   "source": [
    "#Replace \"yes\" and \"no\" values with 1 and 0\n",
    "dn.replace(('Yes','No'),(1,0),inplace=True)"
   ]
  },
  {
   "cell_type": "code",
   "execution_count": 186,
   "id": "4f7ab015",
   "metadata": {},
   "outputs": [
    {
     "name": "stdout",
     "output_type": "stream",
     "text": [
      "     breast.milk  formula1  solid.foods2  diarrhea  antibiotics\n",
      "0              1         0             0         0            0\n",
      "1              1         0             1         0            0\n",
      "2              1         0             1         0            0\n",
      "3              1         0             1         0            0\n",
      "4              1         0             1         0            0\n",
      "..           ...       ...           ...       ...          ...\n",
      "990            1         1             0         0            0\n",
      "991            1         1             0         0            0\n",
      "992            1         1             0         1            0\n",
      "993            1         1             1         0            0\n",
      "994            0         1             1         0            0\n",
      "\n",
      "[995 rows x 5 columns]\n"
     ]
    }
   ],
   "source": [
    "#Show the transformed data set (dn)\n",
    "print(dn)"
   ]
  },
  {
   "cell_type": "code",
   "execution_count": 187,
   "id": "a169f2ef",
   "metadata": {},
   "outputs": [],
   "source": [
    "#Define a variable X \n",
    "X=dn[dn.columns[0:3]]"
   ]
  },
  {
   "cell_type": "code",
   "execution_count": 188,
   "id": "ac640d70",
   "metadata": {},
   "outputs": [],
   "source": [
    "#Define a variable y\n",
    "y= dn[dn.columns[3]]"
   ]
  },
  {
   "cell_type": "code",
   "execution_count": 189,
   "id": "829b2eb2",
   "metadata": {},
   "outputs": [],
   "source": [
    "#Import sequential model and add list of layers to constructor \n",
    "model = Sequential()\n",
    "model.add(Dense(12, input_dim=3, activation='relu'))\n",
    "model.add(Dense(8, activation='relu'))\n",
    "model.add(Dense(1, activation='sigmoid'))\n",
    "model.compile(loss='binary_crossentropy',optimizer='adam',metrics=['accuracy'])"
   ]
  },
  {
   "cell_type": "code",
   "execution_count": 190,
   "id": "debe649f",
   "metadata": {},
   "outputs": [
    {
     "name": "stdout",
     "output_type": "stream",
     "text": [
      "Epoch 1/150\n",
      "100/100 [==============================] - 1s 2ms/step - loss: 0.5132 - accuracy: 0.7658\n",
      "Epoch 2/150\n",
      "100/100 [==============================] - 0s 1ms/step - loss: 0.2971 - accuracy: 0.9186\n",
      "Epoch 3/150\n",
      "100/100 [==============================] - 0s 1ms/step - loss: 0.2895 - accuracy: 0.9186\n",
      "Epoch 4/150\n",
      "100/100 [==============================] - 0s 1ms/step - loss: 0.2877 - accuracy: 0.9186\n",
      "Epoch 5/150\n",
      "100/100 [==============================] - 0s 4ms/step - loss: 0.2867 - accuracy: 0.9186\n",
      "Epoch 6/150\n",
      "100/100 [==============================] - 1s 8ms/step - loss: 0.2860 - accuracy: 0.9186\n",
      "Epoch 7/150\n",
      "100/100 [==============================] - 1s 6ms/step - loss: 0.2856 - accuracy: 0.9186\n",
      "Epoch 8/150\n",
      "100/100 [==============================] - 0s 5ms/step - loss: 0.2855 - accuracy: 0.9186\n",
      "Epoch 9/150\n",
      "100/100 [==============================] - 1s 7ms/step - loss: 0.2849 - accuracy: 0.9186: 1s - loss: 0.2772 - accu\n",
      "Epoch 10/150\n",
      "100/100 [==============================] - 0s 3ms/step - loss: 0.2845 - accuracy: 0.9186\n",
      "Epoch 11/150\n",
      "100/100 [==============================] - ETA: 0s - loss: 0.2848 - accuracy: 0.91 - 0s 3ms/step - loss: 0.2844 - accuracy: 0.9186\n",
      "Epoch 12/150\n",
      "100/100 [==============================] - 0s 2ms/step - loss: 0.2840 - accuracy: 0.9186\n",
      "Epoch 13/150\n",
      "100/100 [==============================] - 0s 1ms/step - loss: 0.2839 - accuracy: 0.9186\n",
      "Epoch 14/150\n",
      "100/100 [==============================] - 0s 1ms/step - loss: 0.2838 - accuracy: 0.9186\n",
      "Epoch 15/150\n",
      "100/100 [==============================] - 0s 1ms/step - loss: 0.2841 - accuracy: 0.9186\n",
      "Epoch 16/150\n",
      "100/100 [==============================] - 0s 3ms/step - loss: 0.2831 - accuracy: 0.9186\n",
      "Epoch 17/150\n",
      "100/100 [==============================] - 0s 4ms/step - loss: 0.2831 - accuracy: 0.9186\n",
      "Epoch 18/150\n",
      "100/100 [==============================] - 0s 5ms/step - loss: 0.2828 - accuracy: 0.9186\n",
      "Epoch 19/150\n",
      "100/100 [==============================] - 0s 3ms/step - loss: 0.2825 - accuracy: 0.9186\n",
      "Epoch 20/150\n",
      "100/100 [==============================] - 0s 3ms/step - loss: 0.2830 - accuracy: 0.9186\n",
      "Epoch 21/150\n",
      "100/100 [==============================] - 0s 2ms/step - loss: 0.2826 - accuracy: 0.9186\n",
      "Epoch 22/150\n",
      "100/100 [==============================] - 1s 6ms/step - loss: 0.2823 - accuracy: 0.9186\n",
      "Epoch 23/150\n",
      "100/100 [==============================] - 0s 3ms/step - loss: 0.2824 - accuracy: 0.9186: 0s - loss: 0.2984 - accuracy\n",
      "Epoch 24/150\n",
      "100/100 [==============================] - 1s 6ms/step - loss: 0.2821 - accuracy: 0.9186\n",
      "Epoch 25/150\n",
      "100/100 [==============================] - 1s 5ms/step - loss: 0.2821 - accuracy: 0.9186\n",
      "Epoch 26/150\n",
      "100/100 [==============================] - 1s 7ms/step - loss: 0.2822 - accuracy: 0.9186\n",
      "Epoch 27/150\n",
      "100/100 [==============================] - 1s 8ms/step - loss: 0.2823 - accuracy: 0.9186\n",
      "Epoch 28/150\n",
      "100/100 [==============================] - 0s 2ms/step - loss: 0.2820 - accuracy: 0.9186\n",
      "Epoch 29/150\n",
      "100/100 [==============================] - 0s 3ms/step - loss: 0.2821 - accuracy: 0.9186: 0s - loss: 0.3549 - accuracy\n",
      "Epoch 30/150\n",
      "100/100 [==============================] - 0s 1ms/step - loss: 0.2815 - accuracy: 0.9186\n",
      "Epoch 31/150\n",
      "100/100 [==============================] - 1s 8ms/step - loss: 0.2817 - accuracy: 0.9186\n",
      "Epoch 32/150\n",
      "100/100 [==============================] - 1s 10ms/step - loss: 0.2819 - accuracy: 0.9186 3s - loss: 0.3300 \n",
      "Epoch 33/150\n",
      "100/100 [==============================] - 1s 6ms/step - loss: 0.2818 - accuracy: 0.9186\n",
      "Epoch 34/150\n",
      "100/100 [==============================] - 1s 8ms/step - loss: 0.2812 - accuracy: 0.9186\n",
      "Epoch 35/150\n",
      "100/100 [==============================] - 1s 6ms/step - loss: 0.2816 - accuracy: 0.9186\n",
      "Epoch 36/150\n",
      "100/100 [==============================] - 1s 8ms/step - loss: 0.2811 - accuracy: 0.9186\n",
      "Epoch 37/150\n",
      "100/100 [==============================] - 1s 8ms/step - loss: 0.2812 - accuracy: 0.9186: 0s - loss: 0.2923 - accuracy: \n",
      "Epoch 38/150\n",
      "100/100 [==============================] - 1s 6ms/step - loss: 0.2816 - accuracy: 0.9186\n",
      "Epoch 39/150\n",
      "100/100 [==============================] - 1s 5ms/step - loss: 0.2807 - accuracy: 0.9186\n",
      "Epoch 40/150\n",
      "100/100 [==============================] - 0s 3ms/step - loss: 0.2807 - accuracy: 0.9186\n",
      "Epoch 41/150\n",
      "100/100 [==============================] - 0s 4ms/step - loss: 0.2807 - accuracy: 0.9186\n",
      "Epoch 42/150\n",
      "100/100 [==============================] - 1s 6ms/step - loss: 0.2807 - accuracy: 0.9186\n",
      "Epoch 43/150\n",
      "100/100 [==============================] - 1s 5ms/step - loss: 0.2810 - accuracy: 0.9186\n",
      "Epoch 44/150\n",
      "100/100 [==============================] - 0s 3ms/step - loss: 0.2808 - accuracy: 0.9186\n",
      "Epoch 45/150\n",
      "100/100 [==============================] - 0s 1ms/step - loss: 0.2804 - accuracy: 0.9186\n",
      "Epoch 46/150\n",
      "100/100 [==============================] - 0s 1ms/step - loss: 0.2803 - accuracy: 0.9186\n",
      "Epoch 47/150\n",
      "100/100 [==============================] - 0s 4ms/step - loss: 0.2805 - accuracy: 0.9186\n",
      "Epoch 48/150\n",
      "100/100 [==============================] - 0s 1ms/step - loss: 0.2804 - accuracy: 0.9186\n",
      "Epoch 49/150\n",
      "100/100 [==============================] - 0s 1ms/step - loss: 0.2803 - accuracy: 0.9186\n",
      "Epoch 50/150\n",
      "100/100 [==============================] - 0s 3ms/step - loss: 0.2803 - accuracy: 0.9186\n",
      "Epoch 51/150\n",
      "100/100 [==============================] - 0s 2ms/step - loss: 0.2804 - accuracy: 0.9186\n",
      "Epoch 52/150\n",
      "100/100 [==============================] - 0s 1ms/step - loss: 0.2803 - accuracy: 0.9186\n",
      "Epoch 53/150\n",
      "100/100 [==============================] - 0s 2ms/step - loss: 0.2798 - accuracy: 0.9186\n",
      "Epoch 54/150\n",
      "100/100 [==============================] - 0s 1ms/step - loss: 0.2806 - accuracy: 0.9186\n",
      "Epoch 55/150\n",
      "100/100 [==============================] - 0s 1ms/step - loss: 0.2804 - accuracy: 0.9186\n",
      "Epoch 56/150\n",
      "100/100 [==============================] - 0s 1ms/step - loss: 0.2800 - accuracy: 0.9186\n",
      "Epoch 57/150\n",
      "100/100 [==============================] - 0s 1ms/step - loss: 0.2802 - accuracy: 0.9186\n",
      "Epoch 58/150\n",
      "100/100 [==============================] - 0s 1ms/step - loss: 0.2806 - accuracy: 0.9186\n",
      "Epoch 59/150\n",
      "100/100 [==============================] - 0s 3ms/step - loss: 0.2805 - accuracy: 0.9186\n",
      "Epoch 60/150\n",
      "100/100 [==============================] - 0s 2ms/step - loss: 0.2804 - accuracy: 0.9186\n",
      "Epoch 61/150\n",
      "100/100 [==============================] - 0s 1ms/step - loss: 0.2799 - accuracy: 0.9186\n",
      "Epoch 62/150\n",
      "100/100 [==============================] - 0s 1ms/step - loss: 0.2799 - accuracy: 0.9186\n",
      "Epoch 63/150\n",
      "100/100 [==============================] - 0s 1ms/step - loss: 0.2801 - accuracy: 0.9186\n",
      "Epoch 64/150\n",
      "100/100 [==============================] - 0s 1ms/step - loss: 0.2819 - accuracy: 0.9186\n",
      "Epoch 65/150\n",
      "100/100 [==============================] - 0s 1ms/step - loss: 0.2803 - accuracy: 0.9186\n",
      "Epoch 66/150\n",
      "100/100 [==============================] - 0s 1ms/step - loss: 0.2797 - accuracy: 0.9186\n",
      "Epoch 67/150\n",
      "100/100 [==============================] - 0s 2ms/step - loss: 0.2798 - accuracy: 0.9186\n",
      "Epoch 68/150\n",
      "100/100 [==============================] - 0s 1ms/step - loss: 0.2800 - accuracy: 0.9186\n",
      "Epoch 69/150\n",
      "100/100 [==============================] - 0s 2ms/step - loss: 0.2807 - accuracy: 0.9186\n",
      "Epoch 70/150\n",
      "100/100 [==============================] - 0s 2ms/step - loss: 0.2802 - accuracy: 0.9186\n",
      "Epoch 71/150\n",
      "100/100 [==============================] - 0s 1ms/step - loss: 0.2801 - accuracy: 0.9186\n",
      "Epoch 72/150\n",
      "100/100 [==============================] - 0s 4ms/step - loss: 0.2797 - accuracy: 0.9186\n",
      "Epoch 73/150\n",
      "100/100 [==============================] - 0s 1ms/step - loss: 0.2796 - accuracy: 0.9186\n",
      "Epoch 74/150\n",
      "100/100 [==============================] - 0s 1ms/step - loss: 0.2797 - accuracy: 0.9186\n",
      "Epoch 75/150\n",
      "100/100 [==============================] - 0s 1ms/step - loss: 0.2801 - accuracy: 0.9186\n",
      "Epoch 76/150\n",
      "100/100 [==============================] - 0s 1ms/step - loss: 0.2800 - accuracy: 0.9186\n",
      "Epoch 77/150\n",
      "100/100 [==============================] - 0s 2ms/step - loss: 0.2794 - accuracy: 0.9186\n",
      "Epoch 78/150\n",
      "100/100 [==============================] - 0s 1ms/step - loss: 0.2795 - accuracy: 0.9186\n",
      "Epoch 79/150\n",
      "100/100 [==============================] - 0s 2ms/step - loss: 0.2798 - accuracy: 0.9186\n",
      "Epoch 80/150\n",
      "100/100 [==============================] - 0s 2ms/step - loss: 0.2799 - accuracy: 0.9186\n",
      "Epoch 81/150\n",
      "100/100 [==============================] - 0s 1ms/step - loss: 0.2807 - accuracy: 0.9186\n",
      "Epoch 82/150\n",
      "100/100 [==============================] - 0s 1ms/step - loss: 0.2794 - accuracy: 0.9186\n",
      "Epoch 83/150\n",
      "100/100 [==============================] - 0s 1ms/step - loss: 0.2794 - accuracy: 0.9186\n",
      "Epoch 84/150\n",
      "100/100 [==============================] - 0s 3ms/step - loss: 0.2797 - accuracy: 0.9186: 0s - loss: 0.2760 - accuracy: 0.\n",
      "Epoch 85/150\n",
      "100/100 [==============================] - 0s 3ms/step - loss: 0.2802 - accuracy: 0.9186\n",
      "Epoch 86/150\n",
      "100/100 [==============================] - 0s 3ms/step - loss: 0.2796 - accuracy: 0.9186\n",
      "Epoch 87/150\n",
      "100/100 [==============================] - 0s 5ms/step - loss: 0.2797 - accuracy: 0.9186\n",
      "Epoch 88/150\n",
      "100/100 [==============================] - 0s 3ms/step - loss: 0.2796 - accuracy: 0.9186\n",
      "Epoch 89/150\n",
      "100/100 [==============================] - 0s 3ms/step - loss: 0.2797 - accuracy: 0.9186\n",
      "Epoch 90/150\n",
      "100/100 [==============================] - 0s 3ms/step - loss: 0.2795 - accuracy: 0.9186\n",
      "Epoch 91/150\n",
      "100/100 [==============================] - 0s 2ms/step - loss: 0.2793 - accuracy: 0.9186\n",
      "Epoch 92/150\n",
      "100/100 [==============================] - 0s 1ms/step - loss: 0.2791 - accuracy: 0.9186\n",
      "Epoch 93/150\n",
      "100/100 [==============================] - 0s 1ms/step - loss: 0.2791 - accuracy: 0.9186\n",
      "Epoch 94/150\n",
      "100/100 [==============================] - 0s 1ms/step - loss: 0.2791 - accuracy: 0.9186\n",
      "Epoch 95/150\n",
      "100/100 [==============================] - 1s 5ms/step - loss: 0.2795 - accuracy: 0.9186\n",
      "Epoch 96/150\n",
      "100/100 [==============================] - 0s 3ms/step - loss: 0.2793 - accuracy: 0.9186\n",
      "Epoch 97/150\n",
      "100/100 [==============================] - 0s 3ms/step - loss: 0.2790 - accuracy: 0.9186\n",
      "Epoch 98/150\n",
      "100/100 [==============================] - 1s 6ms/step - loss: 0.2789 - accuracy: 0.9186\n",
      "Epoch 99/150\n",
      "100/100 [==============================] - 0s 2ms/step - loss: 0.2797 - accuracy: 0.9186\n",
      "Epoch 100/150\n",
      "100/100 [==============================] - 0s 4ms/step - loss: 0.2803 - accuracy: 0.9186\n",
      "Epoch 101/150\n",
      "100/100 [==============================] - 0s 2ms/step - loss: 0.2788 - accuracy: 0.9186\n",
      "Epoch 102/150\n",
      "100/100 [==============================] - 0s 1ms/step - loss: 0.2797 - accuracy: 0.9186\n",
      "Epoch 103/150\n",
      "100/100 [==============================] - 0s 953us/step - loss: 0.2794 - accuracy: 0.9186\n",
      "Epoch 104/150\n",
      "100/100 [==============================] - 0s 1ms/step - loss: 0.2792 - accuracy: 0.9186\n",
      "Epoch 105/150\n",
      "100/100 [==============================] - 0s 1ms/step - loss: 0.2795 - accuracy: 0.9186\n",
      "Epoch 106/150\n",
      "100/100 [==============================] - 0s 1ms/step - loss: 0.2800 - accuracy: 0.9186\n",
      "Epoch 107/150\n",
      "100/100 [==============================] - 0s 1ms/step - loss: 0.2792 - accuracy: 0.9186\n",
      "Epoch 108/150\n",
      "100/100 [==============================] - 0s 4ms/step - loss: 0.2792 - accuracy: 0.9186\n",
      "Epoch 109/150\n",
      "100/100 [==============================] - 0s 3ms/step - loss: 0.2788 - accuracy: 0.9186\n",
      "Epoch 110/150\n",
      "100/100 [==============================] - 0s 3ms/step - loss: 0.2796 - accuracy: 0.9186\n",
      "Epoch 111/150\n",
      "100/100 [==============================] - 0s 3ms/step - loss: 0.2792 - accuracy: 0.9186\n",
      "Epoch 112/150\n",
      "100/100 [==============================] - 0s 3ms/step - loss: 0.2791 - accuracy: 0.9186\n",
      "Epoch 113/150\n",
      "100/100 [==============================] - 0s 2ms/step - loss: 0.2791 - accuracy: 0.9186\n",
      "Epoch 114/150\n",
      "100/100 [==============================] - 0s 3ms/step - loss: 0.2791 - accuracy: 0.9186\n",
      "Epoch 115/150\n",
      "100/100 [==============================] - 0s 1ms/step - loss: 0.2791 - accuracy: 0.9186\n",
      "Epoch 116/150\n",
      "100/100 [==============================] - 0s 1ms/step - loss: 0.2798 - accuracy: 0.9186\n",
      "Epoch 117/150\n",
      "100/100 [==============================] - 0s 1ms/step - loss: 0.2796 - accuracy: 0.9186\n",
      "Epoch 118/150\n",
      "100/100 [==============================] - 0s 1ms/step - loss: 0.2794 - accuracy: 0.9186\n",
      "Epoch 119/150\n",
      "100/100 [==============================] - 0s 1ms/step - loss: 0.2791 - accuracy: 0.9186\n",
      "Epoch 120/150\n",
      "100/100 [==============================] - 0s 1ms/step - loss: 0.2789 - accuracy: 0.9186\n",
      "Epoch 121/150\n",
      "100/100 [==============================] - 0s 2ms/step - loss: 0.2787 - accuracy: 0.9186\n",
      "Epoch 122/150\n",
      "100/100 [==============================] - 0s 1ms/step - loss: 0.2800 - accuracy: 0.9186\n",
      "Epoch 123/150\n",
      "100/100 [==============================] - 0s 1ms/step - loss: 0.2789 - accuracy: 0.9186\n",
      "Epoch 124/150\n",
      "100/100 [==============================] - 0s 1ms/step - loss: 0.2789 - accuracy: 0.9186\n",
      "Epoch 125/150\n",
      "100/100 [==============================] - 0s 1ms/step - loss: 0.2788 - accuracy: 0.9186\n",
      "Epoch 126/150\n",
      "100/100 [==============================] - 0s 1ms/step - loss: 0.2791 - accuracy: 0.9186\n",
      "Epoch 127/150\n",
      "100/100 [==============================] - 0s 1ms/step - loss: 0.2791 - accuracy: 0.9186\n",
      "Epoch 128/150\n",
      "100/100 [==============================] - 0s 1ms/step - loss: 0.2791 - accuracy: 0.9186\n",
      "Epoch 129/150\n",
      "100/100 [==============================] - 0s 1ms/step - loss: 0.2793 - accuracy: 0.9186\n",
      "Epoch 130/150\n",
      "100/100 [==============================] - 0s 1ms/step - loss: 0.2788 - accuracy: 0.9186\n",
      "Epoch 131/150\n",
      "100/100 [==============================] - 0s 1ms/step - loss: 0.2789 - accuracy: 0.9186\n",
      "Epoch 132/150\n",
      "100/100 [==============================] - 0s 1ms/step - loss: 0.2792 - accuracy: 0.9186\n",
      "Epoch 133/150\n",
      "100/100 [==============================] - 0s 1ms/step - loss: 0.2789 - accuracy: 0.9186\n",
      "Epoch 134/150\n",
      "100/100 [==============================] - 0s 1ms/step - loss: 0.2789 - accuracy: 0.9186\n",
      "Epoch 135/150\n",
      "100/100 [==============================] - 0s 1ms/step - loss: 0.2797 - accuracy: 0.9186\n",
      "Epoch 136/150\n",
      "100/100 [==============================] - 0s 1ms/step - loss: 0.2790 - accuracy: 0.9186\n",
      "Epoch 137/150\n",
      "100/100 [==============================] - 0s 1ms/step - loss: 0.2796 - accuracy: 0.9186\n",
      "Epoch 138/150\n",
      "100/100 [==============================] - 0s 1ms/step - loss: 0.2785 - accuracy: 0.9186\n",
      "Epoch 139/150\n",
      "100/100 [==============================] - 0s 2ms/step - loss: 0.2793 - accuracy: 0.9186\n",
      "Epoch 140/150\n",
      "100/100 [==============================] - 0s 1ms/step - loss: 0.2789 - accuracy: 0.9186\n",
      "Epoch 141/150\n",
      "100/100 [==============================] - 0s 1ms/step - loss: 0.2789 - accuracy: 0.9186\n",
      "Epoch 142/150\n",
      "100/100 [==============================] - 0s 1ms/step - loss: 0.2787 - accuracy: 0.9186\n",
      "Epoch 143/150\n",
      "100/100 [==============================] - 0s 1ms/step - loss: 0.2790 - accuracy: 0.9186: 0s - loss: 0.2815 - accuracy: 0.\n",
      "Epoch 144/150\n",
      "100/100 [==============================] - 0s 1ms/step - loss: 0.2790 - accuracy: 0.9186\n",
      "Epoch 145/150\n",
      "100/100 [==============================] - 0s 1ms/step - loss: 0.2789 - accuracy: 0.9186\n",
      "Epoch 146/150\n",
      "100/100 [==============================] - 0s 1ms/step - loss: 0.2790 - accuracy: 0.9186\n",
      "Epoch 147/150\n",
      "100/100 [==============================] - 0s 1ms/step - loss: 0.2788 - accuracy: 0.9186\n",
      "Epoch 148/150\n",
      "100/100 [==============================] - 0s 1ms/step - loss: 0.2785 - accuracy: 0.9186\n",
      "Epoch 149/150\n",
      "100/100 [==============================] - 0s 1ms/step - loss: 0.2789 - accuracy: 0.9186\n",
      "Epoch 150/150\n",
      "100/100 [==============================] - 0s 1ms/step - loss: 0.2788 - accuracy: 0.9186\n"
     ]
    },
    {
     "data": {
      "text/plain": [
       "<keras.callbacks.History at 0x7fdc61cce670>"
      ]
     },
     "execution_count": 190,
     "metadata": {},
     "output_type": "execute_result"
    }
   ],
   "source": [
    "# Evaluate with epoch as 75 and a batch size of 10 \n",
    "model.fit(X,y,epochs=150,batch_size=10)"
   ]
  },
  {
   "cell_type": "code",
   "execution_count": 191,
   "id": "04efcb55",
   "metadata": {},
   "outputs": [
    {
     "name": "stdout",
     "output_type": "stream",
     "text": [
      "32/32 [==============================] - 0s 2ms/step - loss: 0.2781 - accuracy: 0.9186\n"
     ]
    }
   ],
   "source": [
    "#Evaluate averages of keras model\n",
    "_,accuracy=model.evaluate(X,y)"
   ]
  },
  {
   "cell_type": "code",
   "execution_count": 192,
   "id": "ca1e0c9d",
   "metadata": {},
   "outputs": [
    {
     "name": "stdout",
     "output_type": "stream",
     "text": [
      "Accuracy:91.86\n"
     ]
    }
   ],
   "source": [
    "#Print accuracy level in percentage \n",
    "print('Accuracy:%.2f'%(accuracy*100))"
   ]
  },
  {
   "cell_type": "markdown",
   "id": "c8adbbc9",
   "metadata": {},
   "source": [
    "### Part 3A: Create a Scatterplot to Further Show Effect of Being Breastfed on the Development of Diarrhea"
   ]
  },
  {
   "cell_type": "markdown",
   "id": "9cdf197e",
   "metadata": {},
   "source": [
    "Below, we are creating a scatterplot. A scatterplot is a graph of paired (x,y) data. It provides a visual image of the data points, which helps to visualize an overall trend between the independent (x) and dependent (y) variable. Not only does it plot past points, but a scatterplot has the ability to estimate new data points using a \"line of best fit\"(https://www.intellspot.com/scatter-plot/). This scatterplot is made by first turning the .csv data into a Pandas Dataframe and defining variables based on the months (4) of exclusive breastfeeding. The scatter plot is created by using pyplot.plt, with x and y as the indices. From there, the plt is labeled using the terms xlabel and ylabel, a title is given using plt.title(), and finally the plot is shown using the plt.show() function. "
   ]
  },
  {
   "cell_type": "code",
   "execution_count": 193,
   "id": "95a3036d",
   "metadata": {},
   "outputs": [],
   "source": [
    "#Read in .csv file\n",
    "h = pd.read_csv('he50.csv')"
   ]
  },
  {
   "cell_type": "code",
   "execution_count": 194,
   "id": "0e637f83",
   "metadata": {},
   "outputs": [],
   "source": [
    "#Create a pandas dataframe\n",
    "sp = pd.DataFrame(h, columns=['month.exbf','month.food','n.diarrhea.yr','percent.time.diarrhea'])"
   ]
  },
  {
   "cell_type": "code",
   "execution_count": 195,
   "id": "3cc3c18a",
   "metadata": {},
   "outputs": [],
   "source": [
    "#Define variables, if breastfed exclusively for greater than 4 months, grouped into EBF  \n",
    "x1 = sp.loc[sp['month.exbf']> 4.0]\n",
    "x1r = x1[x1.columns[0]]\n",
    "y1 = x1[x1.columns[3]]\n",
    "x2 = sp.loc[sp['month.exbf']<=4.0]\n",
    "x2r=x2[x2.columns[0]]\n",
    "y2= x2[x2.columns[3]]"
   ]
  },
  {
   "cell_type": "code",
   "execution_count": 196,
   "id": "93cbe2d5",
   "metadata": {},
   "outputs": [
    {
     "data": {
      "image/png": "[encoded data removed]",
      "text/plain": [
       "<Figure size 432x288 with 1 Axes>"
      ]
     },
     "metadata": {
      "needs_background": "light"
     },
     "output_type": "display_data"
    }
   ],
   "source": [
    "#Create scatter plot, label it, and show it \n",
    "plt.scatter(x1r,y1)\n",
    "plt.xlabel(\"Months Infant Exclusively Breastfed\")\n",
    "plt.ylabel(\"Percent Time Have Diarrhea in a Year\")\n",
    "plt.title (\"The Effect of Being Exclusively Breastfed on Development of Diarrhea\",fontsize=15)\n",
    "plt.show()"
   ]
  },
  {
   "cell_type": "code",
   "execution_count": 197,
   "id": "244b6d75",
   "metadata": {},
   "outputs": [
    {
     "data": {
      "image/png": "[encoded data removed]",
      "text/plain": [
       "<Figure size 432x288 with 1 Axes>"
      ]
     },
     "metadata": {
      "needs_background": "light"
     },
     "output_type": "display_data"
    }
   ],
   "source": [
    "#Create scatter plot, label it, and show it \n",
    "plt.scatter(x2r,y2)\n",
    "plt.xlabel(\"Months Infant Exclusively Breastfed\")\n",
    "plt.ylabel(\"Percent Time Have Diarrhea in a Year\")\n",
    "plt.title (\"The Effect of Being Being Exclusively Breastfed on Development of Diarrhea\",fontsize=15)\n",
    "plt.show()"
   ]
  },
  {
   "cell_type": "markdown",
   "id": "3c00f10a",
   "metadata": {},
   "source": [
    "### Part 4: Analysis of the Results "
   ]
  },
  {
   "cell_type": "markdown",
   "id": "4f9ce3c7",
   "metadata": {},
   "source": [
    "P-Value:\n",
    "For the general diversity of the microbiome between exclusively breast fed (EBF) and non-exclusively breastfed (NEBF)infants, a p-value of .05 was given. This p-value is equal to the significance value of 0.05. This means that the null hypothesis (Exclusive BF and Non-Exclusive BF have the same diversity) is false, and the alternate hypothesis (Exclusive BF and Non-Exclusive breastfeeding have different ranges of diveristy) is accepted. In regard to the Bacteroidetes and Firmicutes bacterium between EBF and NEBF infants, each of the p-values must be divided by 2 in order to take a one-sided t test. In this case, Bacterioidetes p-value of 0.049/2 = .0245 and Firmicutes p-value of 0.028/2 = 0.014. Btoh of these p-values were less than the significance value of 0.05. This means that in both cases, the null hypothesis (Levels of Bacterioidetes/Firmicutes in EBF infants is greater than or equal to the level of Bacteriodotes/Firmicutes in NEBF infants) is false and the alternate hypothesis is true (Bacterioidetes/Firmicutes levels in EBF infants is less than in NEBF infants). This part of my hypothesis was correct, that the levels of Bacterioidetes/Firmicutes in EBF infants is less than in NEBF infants. \n",
    "\n",
    "Deep Neural Network: \n",
    "This data was used to show the relation between the gut microbial diversity and the onset of diarrhea or the absence of diarrhea as well. The \"loss\" value is calculated on subsequent trainings and it implies \"how poorly or well a model behaves after each iteration of optimization\" (https://intellipaat.com/community/368/how-to-interpret-loss-and-accuracy-for-a-machine-learning-model). If the model is perfect, then the loss would be 0. My model generated a loss value of 0.2781. This is a great loss value and indicates the data points that were predicted were not far off from the true data points. The accuracy data point measures how accurate the model's prediction is compared to the true data that is given. The accuracy of my model was 91.86%. This means out of 100 test samples, my model was able to classify about 92 of them. This keras model took into account the infant was fed breast milk, the infant had solid foods or not, and if the infant was given a second round of solid foods or not. This was then compared against the development of diarrhea or not based on these factors. This model has the ability to predict whether diarrhea will be developed based on these 3 factors. It does not specifically show the difference between breast fed and non-breast fed infants and the development of diarrhea, but it gives more insight into how different factors affect the development of diarrhea dysbiosis. Based on this model alone, it would be only half of the equation to show if breastfeeding had an effect on the development of diarrhea dysbiosis. The scatter plot is then used to further compare the results breastfeeding had on the development of dysbiosis.   \n",
    "\n",
    "Scatter Plot: \n",
    "This plot is not necessarily showing the hypothesis that I had and wanted to be portrayed, but it does show an overall trend. If infant is exclusively breastfed for less months, then the range of the development of diarrhea extends further than non-exclusively breastfed infants. There is still infants who are exclusively breastfed that develop the same percentage of diarrhea in a year as those infants that are not exclusively breastfed, but these cases center around the 4% line, rather than centering around the 7% line in infants who are exclusively breastfed for less than 4 months. Therefore, it can be argued that the range of generation of diarrhea dysbiosis in greater in NEBF infants than EBF infants. The part of my hypothesis (\"a reduced amount of gut microbiota diarrhea dysbiosis) should be corrected to a decrease in the range of the percentage of gut microbiota diarrhea dysbioisis.\n",
    "\n",
    "Overall, the first part of my hypothesis was spot on: The levels of Bacterioidetes and Firmicutes were decreased in EBF infants, however, this led to a decrease in the range of the percentage of gut microbiota diarrhea dysbiosis, rather than a direct decrease in the percentage of gut microbiota diarrhea dysbiosis. "
   ]
  }
 ],
 "metadata": {
  "kernelspec": {
   "display_name": "Python 3",
   "language": "python",
   "name": "python3"
  },
  "language_info": {
   "codemirror_mode": {
    "name": "ipython",
    "version": 3
   },
   "file_extension": ".py",
   "mimetype": "text/x-python",
   "name": "python",
   "nbconvert_exporter": "python",
   "pygments_lexer": "ipython3",
   "version": "3.8.8"
  }
 },
 "nbformat": 4,
 "nbformat_minor": 5
}
